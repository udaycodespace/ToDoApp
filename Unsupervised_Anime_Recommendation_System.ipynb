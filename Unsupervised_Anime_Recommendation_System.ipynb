{
  "nbformat": 4,
  "nbformat_minor": 0,
  "metadata": {
    "colab": {
      "provenance": [],
      "authorship_tag": "ABX9TyNWtiqARn+b+B9JPRj+T/NX",
      "include_colab_link": true
    },
    "kernelspec": {
      "name": "python3",
      "display_name": "Python 3"
    },
    "language_info": {
      "name": "python"
    }
  },
  "cells": [
    {
      "cell_type": "markdown",
      "metadata": {
        "id": "view-in-github",
        "colab_type": "text"
      },
      "source": [
        "<a href=\"https://colab.research.google.com/github/udaycodespace/ToDoApp/blob/main/Unsupervised_Anime_Recommendation_System.ipynb\" target=\"_parent\"><img src=\"https://colab.research.google.com/assets/colab-badge.svg\" alt=\"Open In Colab\"/></a>"
      ]
    },
    {
      "cell_type": "code",
      "execution_count": null,
      "metadata": {
        "colab": {
          "base_uri": "https://localhost:8080/"
        },
        "id": "boFzrkRLBEQB",
        "outputId": "09d07aac-ec15-4b30-e162-0cb52c4e2d4b"
      },
      "outputs": [
        {
          "output_type": "stream",
          "name": "stdout",
          "text": [
            "Collecting rapidfuzz\n",
            "  Downloading rapidfuzz-3.13.0-cp311-cp311-manylinux_2_17_x86_64.manylinux2014_x86_64.whl.metadata (12 kB)\n",
            "Downloading rapidfuzz-3.13.0-cp311-cp311-manylinux_2_17_x86_64.manylinux2014_x86_64.whl (3.1 MB)\n",
            "\u001b[2K   \u001b[90m━━━━━━━━━━━━━━━━━━━━━━━━━━━━━━━━━━━━━━━━\u001b[0m \u001b[32m3.1/3.1 MB\u001b[0m \u001b[31m17.6 MB/s\u001b[0m eta \u001b[36m0:00:00\u001b[0m\n",
            "\u001b[?25hInstalling collected packages: rapidfuzz\n",
            "Successfully installed rapidfuzz-3.13.0\n"
          ]
        }
      ],
      "source": [
        "!pip install rapidfuzz\n"
      ]
    },
    {
      "cell_type": "code",
      "source": [
        "# 📦 Import packages\n",
        "import pandas as pd\n",
        "import numpy as np\n",
        "from sklearn.feature_extraction.text import TfidfVectorizer\n",
        "from sklearn.preprocessing import MultiLabelBinarizer, MinMaxScaler\n",
        "from sklearn.metrics.pairwise import cosine_similarity\n",
        "from scipy.sparse import hstack, csr_matrix\n",
        "from rapidfuzz import process"
      ],
      "metadata": {
        "id": "7QbiImo_Bqni"
      },
      "execution_count": null,
      "outputs": []
    },
    {
      "cell_type": "code",
      "source": [
        "# 📁 Load anime dataset\n",
        "df = pd.read_csv('/content/anime_2025.csv', low_memory=False)"
      ],
      "metadata": {
        "id": "KgGX-GyABqvp"
      },
      "execution_count": null,
      "outputs": []
    },
    {
      "cell_type": "code",
      "source": [
        "# 📌 Select relevant columns\n",
        "anime = df[['anime_id', 'name', 'genres', 'studios', 'synopsis', 'score', 'popularity']].copy()"
      ],
      "metadata": {
        "id": "jVggqw3JBqy8"
      },
      "execution_count": null,
      "outputs": []
    },
    {
      "cell_type": "code",
      "source": [
        "# 🧹 Drop rows with missing key data\n",
        "anime.dropna(subset=['synopsis', 'genres', 'score', 'popularity'], inplace=True)"
      ],
      "metadata": {
        "id": "8zzT4X6tBq2a"
      },
      "execution_count": null,
      "outputs": []
    },
    {
      "cell_type": "code",
      "source": [
        "# 🧬 Convert genre and studio strings to lists\n",
        "anime['genre_list'] = anime['genres'].apply(lambda x: [g.strip() for g in str(x).split(',') if g.strip()])\n",
        "anime['studio_list'] = anime['studios'].apply(lambda x: [s.strip() for s in str(x).split(',') if s.strip()])\n"
      ],
      "metadata": {
        "id": "mTfO_7oFBq5y"
      },
      "execution_count": null,
      "outputs": []
    },
    {
      "cell_type": "code",
      "source": [
        "# 🧠 1. Text vectorization using TF-IDF on synopsis\n",
        "tfidf = TfidfVectorizer(stop_words='english', max_features=5000)\n",
        "synopsis_matrix = tfidf.fit_transform(anime['synopsis'])"
      ],
      "metadata": {
        "id": "xXcQ1isqBq9L"
      },
      "execution_count": null,
      "outputs": []
    },
    {
      "cell_type": "code",
      "source": [
        "# 🎭 2. One-hot encode genres and studios\n",
        "mlb_genres = MultiLabelBinarizer()\n",
        "genre_matrix = mlb_genres.fit_transform(anime['genre_list'])\n",
        "mlb_studios = MultiLabelBinarizer()\n",
        "studio_matrix = mlb_studios.fit_transform(anime['studio_list'])"
      ],
      "metadata": {
        "id": "ryHugNlRBrAi"
      },
      "execution_count": null,
      "outputs": []
    },
    {
      "cell_type": "code",
      "source": [
        "# 🔢 3. Normalize numeric features (score and popularity)\n",
        "scaler = MinMaxScaler()\n",
        "numeric_features = scaler.fit_transform(anime[['score', 'popularity']])\n",
        "numeric_sparse = csr_matrix(numeric_features)"
      ],
      "metadata": {
        "id": "XrXvJPY8B2-b"
      },
      "execution_count": null,
      "outputs": []
    },
    {
      "cell_type": "code",
      "source": [
        "# 🧩 4. Combine all feature matrices\n",
        "feature_matrix = hstack([\n",
        "    synopsis_matrix,\n",
        "    csr_matrix(genre_matrix),\n",
        "    csr_matrix(studio_matrix),\n",
        "    numeric_sparse\n",
        "], format='csr')\n",
        "\n",
        "# 📐 Precompute cosine similarity matrix\n",
        "cosine_sim = cosine_similarity(feature_matrix, feature_matrix)\n",
        "\n",
        "# 🔍 Create title-to-index mapping for fast lookup\n",
        "indices = pd.Series(anime.index, index=anime['name'].str.lower())\n",
        "\n",
        "# 💡 Anime Recommendation Function\n",
        "def recommend_anime(title, top_n=5, score_cutoff=75):\n",
        "    \"\"\"\n",
        "    Recommend top_n similar anime based on content features using cosine similarity.\n",
        "    Uses fuzzy string matching to handle typos or case mismatches.\n",
        "\n",
        "    Parameters:\n",
        "        title (str): Title of the anime to search.\n",
        "        top_n (int): Number of recommendations to return.\n",
        "        score_cutoff (int): Minimum fuzzy score to consider a valid match.\n",
        "\n",
        "    Returns:\n",
        "        pd.DataFrame: Top recommendations with similarity scores.\n",
        "    \"\"\"\n",
        "\n",
        "    # 🧾 Handle invalid or empty input\n",
        "    if not isinstance(title, str) or not title.strip():\n",
        "        print(\"⚠️ Please enter a valid anime name. Showing best starters Anime.\")\n",
        "        title = \"Death Note\"\n",
        "\n",
        "    # 🔍 Fuzzy match title to closest anime\n",
        "    all_titles = anime['name'].tolist()\n",
        "    match = process.extractOne(title, all_titles, score_cutoff=score_cutoff)\n",
        "\n",
        "    if not match:\n",
        "        print(f\"❌ No close match found for '{title}'. Please try a different name.\")\n",
        "        return pd.DataFrame()\n",
        "\n",
        "    best_title = match[0]\n",
        "    idx = indices.get(best_title.lower())\n",
        "\n",
        "    if idx is None:\n",
        "        print(f\"❌ Could not find index for '{best_title}'.\")\n",
        "        return pd.DataFrame()\n",
        "\n",
        "    # 🔗 Get similarity scores from cosine matrix\n",
        "    sim_scores = list(enumerate(cosine_sim[idx]))\n",
        "    sim_scores = sorted(sim_scores, key=lambda x: x[1], reverse=True)\n",
        "\n",
        "    # 📈 Top N similar anime (excluding itself)\n",
        "    top_scores = sim_scores[1:top_n + 1]\n",
        "    results = [(anime['name'].iloc[i], score) for i, score in top_scores]\n",
        "\n",
        "    return pd.DataFrame(results, columns=['name', 'similarity']).set_index('name')"
      ],
      "metadata": {
        "id": "sV6Hj6QHB2wF"
      },
      "execution_count": null,
      "outputs": []
    },
    {
      "cell_type": "code",
      "source": [
        "#▶️ Example usage\n",
        "if __name__ == '__main__':\n",
        "    user_input = input(\"Enter anime title (e.g., 'Naruto'): \").strip()\n",
        "    print(f\"\\n📌 Recommendations for: '{user_input}'\")\n",
        "    print(recommend_anime(user_input, top_n=5))"
      ],
      "metadata": {
        "colab": {
          "base_uri": "https://localhost:8080/"
        },
        "id": "gBi8sBCMBrFU",
        "outputId": "f1e4ca3e-58a1-494c-9b6e-92d37990ea1e"
      },
      "execution_count": null,
      "outputs": [
        {
          "output_type": "stream",
          "name": "stdout",
          "text": [
            "Enter anime title (e.g., 'Naruto'): One Punch Man\n",
            "\n",
            "📌 Recommendations for: 'One Punch Man'\n",
            "                                similarity\n",
            "name                                      \n",
            "Fugou Keiji: Balance:Unlimited    0.624117\n",
            "Boku dake ga Inai Machi           0.571262\n",
            "Shadows House 2nd Season          0.567497\n",
            "Yuukoku no Moriarty Part 2        0.565551\n",
            "Shadows House                     0.563962\n"
          ]
        }
      ]
    },
    {
      "cell_type": "code",
      "source": [
        "# ▶️ Example usage\n",
        "if __name__ == '__main__':\n",
        "    user_input = input(\"Enter anime title (e.g., 'Naruto'): \").strip()\n",
        "    print(f\"\\n📌 Recommendations for: '{user_input}'\")\n",
        "    print(recommend_anime(user_input, top_n=5))"
      ],
      "metadata": {
        "colab": {
          "base_uri": "https://localhost:8080/"
        },
        "id": "NYuKeMhJBrIt",
        "outputId": "7efaa5d1-27d0-4d9e-f4a5-d504f569c4e8"
      },
      "execution_count": null,
      "outputs": [
        {
          "output_type": "stream",
          "name": "stdout",
          "text": [
            "Enter anime title (e.g., 'Naruto'): One Piece\n",
            "\n",
            "📌 Recommendations for: 'One Piece'\n",
            "                                                   similarity\n",
            "name                                                         \n",
            "Kingdom 3rd Season                                   0.788998\n",
            "Kingdom 4th Season                                   0.788536\n",
            "Kingdom                                              0.653244\n",
            "Kingdom 2nd Season                                   0.641910\n",
            "Naruto: Shippuuden - Shippuu! \"Konoha Gakuen\" Den    0.610272\n"
          ]
        }
      ]
    }
  ]
}